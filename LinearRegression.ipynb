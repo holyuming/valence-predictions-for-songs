{
 "cells": [
  {
   "cell_type": "code",
   "execution_count": null,
   "metadata": {},
   "outputs": [],
   "source": [
    "import csv\n",
    "import os\n",
    "import torch\n",
    "import torch.nn as nn\n",
    "import torch.optim as optim\n",
    "import numpy as np\n",
    "from torch.utils.data import Dataset, DataLoader\n",
    "from matplotlib import pyplot as plt\n",
    "from datasets import datasetMusic"
   ]
  },
  {
   "cell_type": "code",
   "execution_count": null,
   "metadata": {},
   "outputs": [],
   "source": [
    "temp    = 0\n",
    "key     = 1\n",
    "mode    = 2\n",
    "loud    = 3\n",
    "time_s  = 4\n",
    "dura    = 5\n",
    "dance   = 6\n",
    "acoust  = 7\n",
    "speech  = 8\n",
    "live    = 9\n",
    "energy  = 10\n",
    "instru  = 11\n",
    "\n",
    "\n",
    "sliced = [loud, dance, energy, speech, acoust]"
   ]
  },
  {
   "cell_type": "code",
   "execution_count": null,
   "metadata": {},
   "outputs": [],
   "source": [
    "train_ds = datasetMusic(path = 'train.csv', sliced=sliced)\n",
    "train_dl = DataLoader(dataset=train_ds, shuffle=True, batch_size=256)"
   ]
  },
  {
   "cell_type": "code",
   "execution_count": null,
   "metadata": {},
   "outputs": [],
   "source": [
    "valid_ds = datasetMusic(path = 'valid.csv', sliced=sliced)\n",
    "valid_dl = DataLoader(dataset=valid_ds, shuffle=False, batch_size=1)"
   ]
  },
  {
   "cell_type": "code",
   "execution_count": null,
   "metadata": {},
   "outputs": [],
   "source": [
    "class LinearReg(nn.Module):\n",
    "    def __init__(self, in_dim = 5) -> None:\n",
    "        super().__init__()\n",
    "        self.linear = nn.Linear(in_dim, 1).double()\n",
    "\n",
    "    def forward(self, x):\n",
    "        return self.linear(x)"
   ]
  },
  {
   "cell_type": "code",
   "execution_count": null,
   "metadata": {},
   "outputs": [],
   "source": [
    "# basic setup\n",
    "device      = torch.device('cuda:0' if torch.cuda.is_available() else 'cpu')\n",
    "lr          = 1e-3\n",
    "model       = LinearReg(in_dim=len(sliced)).to(device)\n",
    "criterion   = nn.MSELoss()\n",
    "optimizer   = optim.SGD(model.parameters(), lr=lr) \n",
    "epochs      = 3000"
   ]
  },
  {
   "cell_type": "code",
   "execution_count": null,
   "metadata": {},
   "outputs": [],
   "source": [
    "# training (regression for valence)\n",
    "losses = []\n",
    "model.train()\n",
    "for epoch in range(epochs):\n",
    "    for idx, data in enumerate(train_dl):\n",
    "        inData  = data[0].to(device) \n",
    "        outData = data[1].to(device)\n",
    "\n",
    "        preds   = model(inData)       \n",
    "        loss    = criterion(outData, preds)\n",
    "        optimizer.zero_grad()\n",
    "        loss.backward()\n",
    "        optimizer.step()\n",
    "        \n",
    "        # if idx % 10 == 0:\n",
    "        losses.append(loss)\n",
    "        print(f'Epoch: {str(epoch):5s}, idx: {str(idx):3s}, loss: {loss:.4f}')\n",
    "\n",
    "plt.plot(losses)\n",
    "plt.show()"
   ]
  },
  {
   "cell_type": "code",
   "execution_count": null,
   "metadata": {},
   "outputs": [],
   "source": [
    "# validating\n",
    "model.eval()\n",
    "correct = 0\n",
    "total = 0\n",
    "threshold = 0.3\n",
    "for idx, data in enumerate(valid_dl):\n",
    "    inData  = data[0].to(device)\n",
    "    outData = data[1].to(device)\n",
    "\n",
    "    preds   = model(inData)\n",
    "    if (outData > 0.75 or outData < 0.25):\n",
    "        total += 1\n",
    "    if (preds > 0.5 and outData > 0.75) or (preds < 0.5 and outData < 0.25):\n",
    "        correct += 1\n",
    "print(f'Accuracy in valid datasets: {(100 * correct / total):.2f} %')\n",
    "\n",
    "correct = 0\n",
    "total = 0\n",
    "train_dl = DataLoader(dataset=train_ds, shuffle=False, batch_size=1)\n",
    "for idx, data in enumerate(train_dl):\n",
    "    inData  = data[0].to(device)\n",
    "    outData = data[1].to(device)\n",
    "\n",
    "    preds   = model(inData)\n",
    "\n",
    "    if (outData > 0.75 or outData < 0.25):\n",
    "        total += 1\n",
    "    if (preds > 0.5 and outData > 0.75) or (preds < 0.5 and outData < 0.25):\n",
    "        correct += 1\n",
    "\n",
    "print(f'Accuracy in train datasets: {(100 * correct / total):.2f} %')"
   ]
  }
 ],
 "metadata": {
  "kernelspec": {
   "display_name": "music",
   "language": "python",
   "name": "python3"
  },
  "language_info": {
   "codemirror_mode": {
    "name": "ipython",
    "version": 3
   },
   "file_extension": ".py",
   "mimetype": "text/x-python",
   "name": "python",
   "nbconvert_exporter": "python",
   "pygments_lexer": "ipython3",
   "version": "3.6.13"
  },
  "orig_nbformat": 4,
  "vscode": {
   "interpreter": {
    "hash": "0be617a659e18ba99d4275cf7d42e192c81d460fdcd80da1c8d15c3e1a6ed2b3"
   }
  }
 },
 "nbformat": 4,
 "nbformat_minor": 2
}
