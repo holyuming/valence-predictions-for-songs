{
 "cells": [
  {
   "cell_type": "code",
   "execution_count": 2,
   "metadata": {},
   "outputs": [],
   "source": [
    "import torch\n",
    "import os\n",
    "import glob\n",
    "import spotipy\n",
    "from spotipy.oauth2 import SpotifyClientCredentials\n",
    "import numpy as np\n",
    "import csv"
   ]
  },
  {
   "cell_type": "code",
   "execution_count": 3,
   "metadata": {},
   "outputs": [],
   "source": [
    "clientID        = 'Your_Client_ID'\n",
    "clientSecret    = 'Your_Client_Secret'\n",
    "#Authentication \n",
    "client_credentials_manager = SpotifyClientCredentials(client_id=clientID, client_secret=clientSecret)\n",
    "sp = spotipy.Spotify(client_credentials_manager = client_credentials_manager)"
   ]
  },
  {
   "cell_type": "code",
   "execution_count": 4,
   "metadata": {},
   "outputs": [
    {
     "name": "stdout",
     "output_type": "stream",
     "text": [
      "Total number of songs: 1493\n"
     ]
    }
   ],
   "source": [
    "playlist_links = [\n",
    "    # 'https://open.spotify.com/playlist/37i9dQZEVXbJZGli0rRP3r', # Korea         top 50\n",
    "    # 'https://open.spotify.com/playlist/37i9dQZEVXbMw2iUtFR5Eq', # Denmark       top 50\n",
    "    # 'https://open.spotify.com/playlist/37i9dQZEVXbJV3H3OfCN1z', # South Africa  top 50\n",
    "    # 'https://open.spotify.com/playlist/37i9dQZEVXbMWDif5SCBJq', # India         top 50 \n",
    "    # 'https://open.spotify.com/playlist/37i9dQZEVXbMy2EcFg5F9m', # Egypt         top 50\n",
    "    # 'https://open.spotify.com/playlist/37i9dQZEVXbKzoK95AbRy9', # Brazil        top 50\n",
    "    # 'https://open.spotify.com/playlist/37i9dQZEVXbK8BKKMArIyl', # Germany       top 50\n",
    "    # 'https://open.spotify.com/playlist/37i9dQZEVXbKqiTGXuCOsB', # Japan         top 50\n",
    "    # 'https://open.spotify.com/playlist/37i9dQZEVXbN66FupT0MuX', # Singapre      top 50\n",
    "    # 'https://open.spotify.com/playlist/37i9dQZEVXbLp5XoPON0wI', # US            top 50\n",
    "    # 'https://open.spotify.com/playlist/37i9dQZEVXbMwmF30ppw50', # UK            top 50\n",
    "    # 'https://open.spotify.com/playlist/37i9dQZEVXbJwoKy8qKpHG', # Spain         top 50\n",
    "    # 'https://open.spotify.com/playlist/37i9dQZEVXbMdvweCgpBAe', # Hong Kong     top 50\n",
    "    # 'https://open.spotify.com/playlist/37i9dQZEVXbKcS4rq3mEhp', # Malaysia      top 50\n",
    "    # 'https://open.spotify.com/playlist/37i9dQZEVXbObFQZ3JLcXt', # Indonesia     top 50\n",
    "    # 'https://open.spotify.com/playlist/37i9dQZEVXbO3qyFxbkOE1', # Mexico        top 50\n",
    "    # 'https://open.spotify.com/playlist/37i9dQZEVXbJvfa0Yxg7E7', # Norway        top 50\n",
    "    'https://open.spotify.com/playlist/37i9dQZF1DWV3IJ2kse1M3', # 悲傷釋放\n",
    "    'https://open.spotify.com/playlist/37i9dQZF1DWYtDSKIiDhua', # mood\n",
    "    'https://open.spotify.com/playlist/3desNqMHZSGdf3OBjKSKrm', # 傷心情歌300首\n",
    "    'https://open.spotify.com/playlist/7uyFRAZDXN1e1bhCCVWSHm', # 傷心歌\n",
    "    'https://open.spotify.com/playlist/6nxPNnmSE0d5WlplUsa5L3', # Sad Songs\n",
    "    'https://open.spotify.com/playlist/3ZEwSQKkEVx8uJV0Y3LxuA', # hype songs to scream in the car\n",
    "    'https://open.spotify.com/playlist/0RH319xCjeU8VyTSqCF6M4', # Happy songs everyone knows\n",
    "    'https://open.spotify.com/playlist/37i9dQZF1DXdPec7aLTmlC', # 熱門嗨歌!!\n",
    "    'https://open.spotify.com/playlist/3KleuniW0hRonSgV8oZ2aL', # mood songs\n",
    "    'https://open.spotify.com/playlist/2NCYQ11U8paAOIoBb5iLCI', # pop song in piano to chill and relax\n",
    "    'https://open.spotify.com/playlist/3tEiySvyiuoaUV5Uzdd6Tk', # Korean happy songs\n",
    "    'https://open.spotify.com/playlist/3kwb1LyzCSsLLacppOJQc8', # K pop 2022 hits\n",
    "    'https://open.spotify.com/playlist/4hTbRLX81v98SPXwzMw5zY', # happy japanese songs\n",
    "    'https://open.spotify.com/playlist/7iEjCcx21s1T1i4oDvygMq', # sad japanese songs\n",
    "    'https://open.spotify.com/playlist/0jrlHA5UmxRxJjoykf7qRY', # happy english songs\n",
    "    'https://open.spotify.com/playlist/6rqVsYUZONb1ibzYG2EYMd', # sad english songs\n",
    "    'https://open.spotify.com/playlist/1Cz2lvSooaRRyKHi0ZX9bS'  # 開心的歌\n",
    "]\n",
    "track_uris = []\n",
    "for playlist_link in playlist_links:\n",
    "    playlist_URI    = os.path.basename(playlist_link)\n",
    "    track_uris = track_uris + [x[\"track\"][\"uri\"] for x in sp.playlist_tracks(playlist_URI)[\"items\"]]\n",
    "    \n",
    "print(f'Total number of songs: {len(track_uris)}')"
   ]
  },
  {
   "cell_type": "code",
   "execution_count": 5,
   "metadata": {},
   "outputs": [],
   "source": [
    "features = []\n",
    "for track_uri in track_uris:\n",
    "    feature_song = sp.audio_features(track_uri)[0]\n",
    "    #get all features of the song respectively\n",
    "    feature_song_all = []\n",
    "    feature_song_all.append(feature_song.get('tempo'))\n",
    "    feature_song_all.append(feature_song.get('key'))\n",
    "    feature_song_all.append(feature_song.get('mode'))\n",
    "    feature_song_all.append(feature_song.get('loudness'))\n",
    "    feature_song_all.append(feature_song.get('time_signature'))\n",
    "    feature_song_all.append(feature_song.get('duration_ms'))\n",
    "    feature_song_all.append(feature_song.get('danceability'))\n",
    "    feature_song_all.append(feature_song.get('acousticness'))\n",
    "    feature_song_all.append(feature_song.get('speechiness'))\n",
    "    feature_song_all.append(feature_song.get('liveness'))\n",
    "    feature_song_all.append(feature_song.get('energy'))\n",
    "    feature_song_all.append(feature_song.get('instrumentalness'))\n",
    "    feature_song_all.append(feature_song.get('valence'))\n",
    "    features.append(feature_song_all)\n"
   ]
  },
  {
   "cell_type": "code",
   "execution_count": 6,
   "metadata": {},
   "outputs": [
    {
     "name": "stdout",
     "output_type": "stream",
     "text": [
      "(1493, 13)\n"
     ]
    }
   ],
   "source": [
    "features = np.asarray(features)\n",
    "print(features.shape)"
   ]
  },
  {
   "cell_type": "code",
   "execution_count": 7,
   "metadata": {},
   "outputs": [],
   "source": [
    "corr = np.corrcoef(features, rowvar=False)\n",
    "header = ['', 'tempo', 'key', 'mode', 'loudness', 'time_signature', 'duration_ms','danceability', 'acousticness', 'speechiness', 'liveness', 'energy', 'instrumentalness', 'valence']\n",
    "with open('corrs.csv', mode = 'w', newline='') as file:\n",
    "    csv_writer = csv.writer(file)\n",
    "    csv_writer.writerow(header)\n",
    "    for i in range(len(corr)):\n",
    "        row = corr[i].tolist()\n",
    "        row.insert(0, header[i+1])\n",
    "        csv_writer.writerow(row)\n"
   ]
  },
  {
   "cell_type": "code",
   "execution_count": 8,
   "metadata": {},
   "outputs": [],
   "source": [
    "#rename raw_features_data to your own file name\n",
    "with open('train.csv', mode='w', newline='') as submit_file:\n",
    "    csv_writer = csv.writer(submit_file)\n",
    "    header = ['tempo', 'key', 'mode', 'loudness', 'time_signature', 'duration_ms', 'danceability', 'acousticness', 'speechiness', 'liveness', 'energy', 'instrumentalness', 'valence']\n",
    "    csv_writer.writerow(header)\n",
    "    for i in range(len(features)):\n",
    "        row =  features[i]\n",
    "        csv_writer.writerow(row)"
   ]
  },
  {
   "cell_type": "code",
   "execution_count": 9,
   "metadata": {},
   "outputs": [
    {
     "name": "stdout",
     "output_type": "stream",
     "text": [
      "Total number of songs: 317\n"
     ]
    }
   ],
   "source": [
    "# global_top50_link = 'https://open.spotify.com/playlist/37i9dQZEVXbMDoHDwVN2tF' # global        top 50\n",
    "playlist_links = [\n",
    "    'https://open.spotify.com/playlist/3zzTHcXPi192MuUrXOwpC0', # EMO \n",
    "    'https://open.spotify.com/playlist/4UqVrEIurEsuy7H0Sq6qyw', # 失戀必聽秒哭歌單\n",
    "    'https://open.spotify.com/playlist/3TWpD2hjdPpOv4dxEaaaGc', # KTV 嗨歌\n",
    "    'https://open.spotify.com/playlist/4TrSSYgDHY6T5zqwYY1MbP'  # 華語輕快\n",
    "]\n",
    "\n",
    "track_uris = []\n",
    "for playlist_link in playlist_links:\n",
    "    playlist_URI    = os.path.basename(playlist_link)\n",
    "    track_uris = track_uris + [x[\"track\"][\"uri\"] for x in sp.playlist_tracks(playlist_URI)[\"items\"]]\n",
    "    \n",
    "print(f'Total number of songs: {len(track_uris)}')"
   ]
  },
  {
   "cell_type": "code",
   "execution_count": 10,
   "metadata": {},
   "outputs": [],
   "source": [
    "features = []\n",
    "for track_uri in track_uris:\n",
    "    #URI\n",
    "    feature_song = sp.audio_features(track_uri)[0]\n",
    "    #get all features of the song respectively\n",
    "    feature_song_all = []\n",
    "    feature_song_all.append(feature_song.get('tempo'))\n",
    "    feature_song_all.append(feature_song.get('key'))\n",
    "    feature_song_all.append(feature_song.get('mode'))\n",
    "    feature_song_all.append(feature_song.get('loudness'))\n",
    "    feature_song_all.append(feature_song.get('time_signature'))\n",
    "    feature_song_all.append(feature_song.get('duration_ms'))\n",
    "    feature_song_all.append(feature_song.get('danceability'))\n",
    "    feature_song_all.append(feature_song.get('acousticness'))\n",
    "    feature_song_all.append(feature_song.get('speechiness'))\n",
    "    feature_song_all.append(feature_song.get('liveness'))\n",
    "    feature_song_all.append(feature_song.get('energy'))\n",
    "    feature_song_all.append(feature_song.get('instrumentalness'))\n",
    "    feature_song_all.append(feature_song.get('valence'))\n",
    "    features.append(feature_song_all)"
   ]
  },
  {
   "cell_type": "code",
   "execution_count": 11,
   "metadata": {},
   "outputs": [],
   "source": [
    "#rename raw_features_data to your own file name\n",
    "with open('valid.csv', mode='w', newline='') as submit_file:\n",
    "    csv_writer = csv.writer(submit_file)\n",
    "    header = ['tempo', 'key', 'mode', 'loudness', 'time_signature', 'duration_ms', 'danceability', 'acousticness', 'speechiness', 'liveness', 'energy', 'instrumentalness', 'valence']\n",
    "    csv_writer.writerow(header)\n",
    "    for i in range(len(features)):\n",
    "        row =  features[i]\n",
    "        csv_writer.writerow(row)"
   ]
  }
 ],
 "metadata": {
  "kernelspec": {
   "display_name": "music",
   "language": "python",
   "name": "python3"
  },
  "language_info": {
   "codemirror_mode": {
    "name": "ipython",
    "version": 3
   },
   "file_extension": ".py",
   "mimetype": "text/x-python",
   "name": "python",
   "nbconvert_exporter": "python",
   "pygments_lexer": "ipython3",
   "version": "3.6.13 |Anaconda, Inc.| (default, Jun  4 2021, 14:25:59) \n[GCC 7.5.0]"
  },
  "orig_nbformat": 4,
  "vscode": {
   "interpreter": {
    "hash": "0be617a659e18ba99d4275cf7d42e192c81d460fdcd80da1c8d15c3e1a6ed2b3"
   }
  }
 },
 "nbformat": 4,
 "nbformat_minor": 2
}
